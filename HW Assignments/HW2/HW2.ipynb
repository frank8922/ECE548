{
 "cells": [
  {
   "cell_type": "markdown",
   "metadata": {},
   "source": [
    "# Homework 2\n",
    "### Francisco Belliard"
   ]
  },
  {
   "cell_type": "code",
   "execution_count": 8,
   "metadata": {
    "scrolled": true
   },
   "outputs": [
    {
     "data": {
      "text/html": [
       "<table>\n",
       "<caption>A data.frame: 5 × 4</caption>\n",
       "<thead>\n",
       "\t<tr><th scope=col>x1</th><th scope=col>x2</th><th scope=col>x3</th><th scope=col>class</th></tr>\n",
       "\t<tr><th scope=col>&lt;dbl&gt;</th><th scope=col>&lt;dbl&gt;</th><th scope=col>&lt;dbl&gt;</th><th scope=col>&lt;chr&gt;</th></tr>\n",
       "</thead>\n",
       "<tbody>\n",
       "\t<tr><td>2.1</td><td>0.2</td><td>3.0</td><td>c1</td></tr>\n",
       "\t<tr><td>3.3</td><td>1.0</td><td>2.9</td><td>c1</td></tr>\n",
       "\t<tr><td>2.7</td><td>1.2</td><td>3.4</td><td>c1</td></tr>\n",
       "\t<tr><td>0.5</td><td>5.3</td><td>0.0</td><td>c2</td></tr>\n",
       "\t<tr><td>1.5</td><td>4.7</td><td>0.5</td><td>c2</td></tr>\n",
       "</tbody>\n",
       "</table>\n"
      ],
      "text/latex": [
       "A data.frame: 5 × 4\n",
       "\\begin{tabular}{llll}\n",
       " x1 & x2 & x3 & class\\\\\n",
       " <dbl> & <dbl> & <dbl> & <chr>\\\\\n",
       "\\hline\n",
       "\t 2.1 & 0.2 & 3.0 & c1\\\\\n",
       "\t 3.3 & 1.0 & 2.9 & c1\\\\\n",
       "\t 2.7 & 1.2 & 3.4 & c1\\\\\n",
       "\t 0.5 & 5.3 & 0.0 & c2\\\\\n",
       "\t 1.5 & 4.7 & 0.5 & c2\\\\\n",
       "\\end{tabular}\n"
      ],
      "text/markdown": [
       "\n",
       "A data.frame: 5 × 4\n",
       "\n",
       "| x1 &lt;dbl&gt; | x2 &lt;dbl&gt; | x3 &lt;dbl&gt; | class &lt;chr&gt; |\n",
       "|---|---|---|---|\n",
       "| 2.1 | 0.2 | 3.0 | c1 |\n",
       "| 3.3 | 1.0 | 2.9 | c1 |\n",
       "| 2.7 | 1.2 | 3.4 | c1 |\n",
       "| 0.5 | 5.3 | 0.0 | c2 |\n",
       "| 1.5 | 4.7 | 0.5 | c2 |\n",
       "\n"
      ],
      "text/plain": [
       "  x1  x2  x3  class\n",
       "1 2.1 0.2 3.0 c1   \n",
       "2 3.3 1.0 2.9 c1   \n",
       "3 2.7 1.2 3.4 c1   \n",
       "4 0.5 5.3 0.0 c2   \n",
       "5 1.5 4.7 0.5 c2   "
      ]
     },
     "metadata": {},
     "output_type": "display_data"
    }
   ],
   "source": [
    "x1 <- c(2.1,3.3,2.7,0.5,1.5)\n",
    "x2 <- c(0.2,1.0,1.2,5.3,4.7)\n",
    "x3 <- c(3.0,2.9,3.4,0.0,0.5)\n",
    "class <- c('c1','c1','c1','c2','c2')\n",
    "df <- data.frame(x1,x2,x3,class)\n",
    "df"
   ]
  },
  {
   "cell_type": "markdown",
   "metadata": {},
   "source": [
    "### Q2. Using these data, do the following:\n",
    "(a) Assuming that the attributes are mutually independent, approximate the\n",
    "following probability density functions: $p_{c1}(x)$, $p_{c2}(x)$, $p(x)$ Hint: use the\n",
    "idea of superimposed bell functions \n",
    "\n",
    "(b) Using the pdf’s from the previous step, decide whether $x = [1.4,3.3,3.0]$ should belong to $c_1$ or $c_2$"
   ]
  },
  {
   "cell_type": "markdown",
   "metadata": {},
   "source": [
    "#### Solution (a)\n",
    "$P(c1) = 3/5$\n",
    "<br/>\n",
    "$m_{c1} = 3$\n",
    "<br/>\n",
    "$\\sigma^{2} = 1$\n",
    "<br />\n",
    "$k_{c1} = \\frac{1}{3\\sqrt(2\\pi)}$\n",
    "<br/>\n",
    "$p_{c1}(\\vec{x}) = p_{c1}(x_1)p_{c1}(x_2)p_{c1}(x_3)$ where:\n",
    "<br/>\n",
    "$p_{c1}(x_1) = \\frac{1}{3\\sqrt(2\\pi)}(e^{-\\frac{(x-2.1)^2}{2}}+e^{-\\frac{(x-3.3)^2}{2}}+e^{-\\frac{(x-2.7)^2}{2}})$\n",
    "<br/>\n",
    "$p_{c2}(x_2) = \\frac{1}{3\\sqrt(2\\pi)}(e^{-\\frac{(x-0.2)^2}{2}}+e^{-\\frac{(x-1)^2}{2}}+e^{-\\frac{(x-1.2)^2}{2}})$\n",
    "<br/>\n",
    "$p_{c3}(x_3) = \\frac{1}{3\\sqrt(2\\pi)}(e^{-\\frac{(x-3.0)^2}{2}}+e^{-\\frac{(x-2.9)^2}{2}}+e^{-\\frac{(x-3.4)^2}{2}})$\n",
    "<br/>\n",
    "<br/>\n",
    "$P(c2) = 2/5$\n",
    "<br/>\n",
    "$m_{c2} = 2$\n",
    "<br />\n",
    "$\\sigma^{2} = 1$\n",
    "<br />\n",
    "$k_{c2} = \\frac{1}{2\\sqrt(2\\pi)}$\n",
    "<br/>\n",
    "$p_{c2}(\\vec{x}) = p_{c2}(x_1)p_{c2}(x_2)p_{c2}(x_3)$ where:\n",
    "<br/>\n",
    "$p_{c2}(x_1) = \\frac{1}{2\\sqrt(2\\pi)}(e^{-\\frac{(x-0.5)^2}{2}}+e^{-\\frac{(x-1.5)^2}{2}})$\n",
    "<br/>\n",
    "$p_{c2}(x_2) = \\frac{1}{2\\sqrt(2\\pi)}(e^{-\\frac{(x-5.3)^2}{2}}+e^{-\\frac{(x-4.7)^2}{2}})$\n",
    "<br/>\n",
    "$p_{c2}(x_3) = \\frac{1}{2\\sqrt(2\\pi)}(e^{-\\frac{(x-0.0)^2}{2}}+e^{-\\frac{(x-0.5)^2}{2}})$\n",
    "<br/>\n",
    "<br/>\n",
    "$m_{all} = 5$\n",
    "<br />\n",
    "$k_{all} = \\frac{1}{5\\sqrt(2\\pi)}$\n",
    "<br/>\n",
    "$\\sigma^{2} = 1$\n",
    "<br />\n",
    "$p(\\vec{x}) = p(x_1)p(x_2)p(x_3)$ where:\n",
    "<br/>\n",
    "$p(x_1) = \\frac{1}{5\\sqrt(2\\pi)}(e^{-\\frac{(x-2.1)^2}{2}}+e^{-\\frac{(x-3.3)^2}{2}}+e^{-\\frac{(x-2.7)^2}{2}}+e^{-\\frac{(x-0.5)^2}{2}}+e^{-\\frac{(x-1.5)^2}{2}})$\n",
    "<br/>\n",
    "$p(x_2) = \\frac{1}{5\\sqrt(2\\pi)}(e^{-\\frac{(x-0.2)^2}{2}}+e^{-\\frac{(x--1)^2}{2}}+e^{-\\frac{(x-1.2)^2}{2}}+e^{-\\frac{(x-5.3)^2}{2}}+e^{-\\frac{(x-4.7)^2}{2}})$\n",
    "<br/>\n",
    "$p(x_3) = \\frac{1}{5\\sqrt(2\\pi)}(e^{-\\frac{(x-3.0)^2}{2}}+e^{-\\frac{(x-2.9)^2}{2}}+e^{-\\frac{(x-3.4)^2}{2}}+e^{-\\frac{(x-0.0)^2}{2}}+e^{-\\frac{(x-0.5)^2}{2}})$"
   ]
  },
  {
   "cell_type": "markdown",
   "metadata": {},
   "source": [
    "#### Solution (b)"
   ]
  },
  {
   "cell_type": "code",
   "execution_count": 27,
   "metadata": {},
   "outputs": [],
   "source": [
    "# function to calc pdf for a class given an attribute vector\n",
    "p_ci <- function(x,ci){\n",
    "    rowRes = 0\n",
    "    colRes = 1\n",
    "    m = nrow(ci)\n",
    "    k = 1/(sqrt(2*pi)*m)\n",
    "    for(col in 1:ncol(ci)){\n",
    "        for(row in 1:nrow(ci)){\n",
    "            rowRes = rowRes + exp(-0.5*((x[col]-ci[row,col])**2))\n",
    "        }\n",
    "        colRes = colRes * (k*rowRes)\n",
    "        rowRes = 0\n",
    "    }\n",
    "   colRes         \n",
    "}"
   ]
  },
  {
   "cell_type": "code",
   "execution_count": 43,
   "metadata": {},
   "outputs": [
    {
     "name": "stdout",
     "output_type": "stream",
     "text": [
      "[1] \"p_c1(x)*P(c1)/p_all(x) = 0.334247775976489\"\n",
      "[1] \"p_c2(x)*P(c2)/p_all(x) = 0.0461622866700072\"\n",
      "1.4 3.3 3  belongs to cl \n"
     ]
    }
   ],
   "source": [
    "#separate data by class\n",
    "c1 <- df[1:3,1:3]\n",
    "c2 <- df[4:5,1:3]\n",
    "\n",
    "#probabilities for each class\n",
    "P_c1 = 3/5\n",
    "P_c2 = 2/5\n",
    "\n",
    "#attribute vector\n",
    "x <- c(1.4,3.3,3.0)\n",
    "\n",
    "pdf_c1_x = p_ci(x,c1)\n",
    "pdf_c2_x = p_ci(x,c2)\n",
    "\n",
    "# print(paste0('p_c1(x)=',pdf_c1_x))\n",
    "# print(paste0('p_c2(x)=',pdf_c2_x))\n",
    "\n",
    "#numerators\n",
    "numer_c1 = pdf_c1_x * P_c1\n",
    "numer_c2 = pdf_c2_x * P_c2\n",
    "\n",
    "print(paste0('p_c1(x)*P(c1)/p_all(x) = ',numer_c1/p_ci(x,df[1:5,1:3])))\n",
    "print(paste0('p_c2(x)*P(c2)/p_all(x) = ',numer_c2/p_ci(x,df[1:5,1:3])))\n",
    "\n",
    "if(numer_c1 > numer_c2){\n",
    "    cat(x,\" belongs to cl\",\"\\n\",sep=' ')\n",
    "}else{\n",
    "    cat(x,\" belongs to c2\",\"\\n\",sep=' ')\n",
    "}"
   ]
  }
 ],
 "metadata": {
  "kernelspec": {
   "display_name": "R",
   "language": "R",
   "name": "ir"
  },
  "language_info": {
   "codemirror_mode": "r",
   "file_extension": ".r",
   "mimetype": "text/x-r-source",
   "name": "R",
   "pygments_lexer": "r",
   "version": "4.0.3"
  }
 },
 "nbformat": 4,
 "nbformat_minor": 4
}
